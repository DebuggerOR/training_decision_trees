{
 "cells": [
  {
   "cell_type": "markdown",
   "metadata": {
    "collapsed": true,
    "pycharm": {
     "name": "#%% md\n"
    }
   },
   "source": [
    "# Random Forest"
   ]
  },
  {
   "cell_type": "markdown",
   "source": [
    "1. What is the idea of bagging?\n",
    "Reducing the variance of the estimated prediction function by running many DTs (or any other learners) and averaging or taking the majority.\n",
    "\n",
    "2. What is the tradeoff in choosing the number m of features to sample in every node?\n",
    "Bigger m means less randomness, and the behavior gets closed to regular.\n",
    "Smaller m means more randomness, as random forest tries to achieve, but it means also more noise.\n",
    "\n",
    "3. What's Out Of Bag Sampling? What is the size of the Out Of Bag set when the dataset is large?\n",
    "The idea is like K-fold Cross Validation.\n",
    "We estimate over an observation when training without the observation.\n",
    "\n",
    "4. How can one measure feature importance in random forest?\n",
    "A classic way is to sum the improvement that the splits by this feature added.\n",
    "Another way, specifically for random forests, is to calculate the OOB accuracy with a feature and without and compare."
   ],
   "metadata": {
    "collapsed": false,
    "pycharm": {
     "name": "#%% md\n"
    }
   }
  },
  {
   "cell_type": "markdown",
   "source": [
    "## Exercise\n",
    "Demonstrate in code that when the number of variables is large but the fraction of relevant variables is small, random forests are likely to perform poorly with small m."
   ],
   "metadata": {
    "collapsed": false,
    "pycharm": {
     "name": "#%% md\n"
    }
   }
  },
  {
   "cell_type": "code",
   "execution_count": 78,
   "outputs": [],
   "source": [
    "import pandas as pd\n",
    "import numpy as np\n",
    "from sklearn.ensemble import RandomForestRegressor\n",
    "from sklearn.model_selection import train_test_split\n",
    "from sklearn.metrics import mean_squared_error"
   ],
   "metadata": {
    "collapsed": false,
    "pycharm": {
     "name": "#%%\n"
    }
   }
  },
  {
   "cell_type": "code",
   "execution_count": 79,
   "outputs": [
    {
     "data": {
      "text/plain": "   year  month  day  week  temp_2  temp_1  average  actual  forecast_noaa  \\\n0  2016      1    1   Fri      45      45     45.6      45             43   \n1  2016      1    2   Sat      44      45     45.7      44             41   \n2  2016      1    3   Sun      45      44     45.8      41             43   \n3  2016      1    4   Mon      44      41     45.9      40             44   \n4  2016      1    5  Tues      41      40     46.0      44             46   \n\n   forecast_acc  forecast_under  friend  \n0            50              44      29  \n1            50              44      61  \n2            46              47      56  \n3            48              46      53  \n4            46              46      41  ",
      "text/html": "<div>\n<style scoped>\n    .dataframe tbody tr th:only-of-type {\n        vertical-align: middle;\n    }\n\n    .dataframe tbody tr th {\n        vertical-align: top;\n    }\n\n    .dataframe thead th {\n        text-align: right;\n    }\n</style>\n<table border=\"1\" class=\"dataframe\">\n  <thead>\n    <tr style=\"text-align: right;\">\n      <th></th>\n      <th>year</th>\n      <th>month</th>\n      <th>day</th>\n      <th>week</th>\n      <th>temp_2</th>\n      <th>temp_1</th>\n      <th>average</th>\n      <th>actual</th>\n      <th>forecast_noaa</th>\n      <th>forecast_acc</th>\n      <th>forecast_under</th>\n      <th>friend</th>\n    </tr>\n  </thead>\n  <tbody>\n    <tr>\n      <td>0</td>\n      <td>2016</td>\n      <td>1</td>\n      <td>1</td>\n      <td>Fri</td>\n      <td>45</td>\n      <td>45</td>\n      <td>45.6</td>\n      <td>45</td>\n      <td>43</td>\n      <td>50</td>\n      <td>44</td>\n      <td>29</td>\n    </tr>\n    <tr>\n      <td>1</td>\n      <td>2016</td>\n      <td>1</td>\n      <td>2</td>\n      <td>Sat</td>\n      <td>44</td>\n      <td>45</td>\n      <td>45.7</td>\n      <td>44</td>\n      <td>41</td>\n      <td>50</td>\n      <td>44</td>\n      <td>61</td>\n    </tr>\n    <tr>\n      <td>2</td>\n      <td>2016</td>\n      <td>1</td>\n      <td>3</td>\n      <td>Sun</td>\n      <td>45</td>\n      <td>44</td>\n      <td>45.8</td>\n      <td>41</td>\n      <td>43</td>\n      <td>46</td>\n      <td>47</td>\n      <td>56</td>\n    </tr>\n    <tr>\n      <td>3</td>\n      <td>2016</td>\n      <td>1</td>\n      <td>4</td>\n      <td>Mon</td>\n      <td>44</td>\n      <td>41</td>\n      <td>45.9</td>\n      <td>40</td>\n      <td>44</td>\n      <td>48</td>\n      <td>46</td>\n      <td>53</td>\n    </tr>\n    <tr>\n      <td>4</td>\n      <td>2016</td>\n      <td>1</td>\n      <td>5</td>\n      <td>Tues</td>\n      <td>41</td>\n      <td>40</td>\n      <td>46.0</td>\n      <td>44</td>\n      <td>46</td>\n      <td>46</td>\n      <td>46</td>\n      <td>41</td>\n    </tr>\n  </tbody>\n</table>\n</div>"
     },
     "execution_count": 79,
     "metadata": {},
     "output_type": "execute_result"
    }
   ],
   "source": [
    "temps = pd.read_csv('temps.csv')\n",
    "\n",
    "temps.head(5)"
   ],
   "metadata": {
    "collapsed": false,
    "pycharm": {
     "name": "#%%\n"
    }
   }
  },
  {
   "cell_type": "code",
   "execution_count": 80,
   "outputs": [
    {
     "data": {
      "text/plain": "         year       month         day      temp_2      temp_1     average  \\\ncount   348.0  348.000000  348.000000  348.000000  348.000000  348.000000   \nmean   2016.0    6.477011   15.514368   62.652299   62.701149   59.760632   \nstd       0.0    3.498380    8.772982   12.165398   12.120542   10.527306   \nmin    2016.0    1.000000    1.000000   35.000000   35.000000   45.100000   \n25%    2016.0    3.000000    8.000000   54.000000   54.000000   49.975000   \n50%    2016.0    6.000000   15.000000   62.500000   62.500000   58.200000   \n75%    2016.0   10.000000   23.000000   71.000000   71.000000   69.025000   \nmax    2016.0   12.000000   31.000000  117.000000  117.000000   77.400000   \n\n           actual  forecast_noaa  forecast_acc  forecast_under      friend  \ncount  348.000000     348.000000    348.000000      348.000000  348.000000  \nmean    62.543103      57.238506     62.373563       59.772989   60.034483  \nstd     11.794146      10.605746     10.549381       10.705256   15.626179  \nmin     35.000000      41.000000     46.000000       44.000000   28.000000  \n25%     54.000000      48.000000     53.000000       50.000000   47.750000  \n50%     62.500000      56.000000     61.000000       58.000000   60.000000  \n75%     71.000000      66.000000     72.000000       69.000000   71.000000  \nmax     92.000000      77.000000     82.000000       79.000000   95.000000  ",
      "text/html": "<div>\n<style scoped>\n    .dataframe tbody tr th:only-of-type {\n        vertical-align: middle;\n    }\n\n    .dataframe tbody tr th {\n        vertical-align: top;\n    }\n\n    .dataframe thead th {\n        text-align: right;\n    }\n</style>\n<table border=\"1\" class=\"dataframe\">\n  <thead>\n    <tr style=\"text-align: right;\">\n      <th></th>\n      <th>year</th>\n      <th>month</th>\n      <th>day</th>\n      <th>temp_2</th>\n      <th>temp_1</th>\n      <th>average</th>\n      <th>actual</th>\n      <th>forecast_noaa</th>\n      <th>forecast_acc</th>\n      <th>forecast_under</th>\n      <th>friend</th>\n    </tr>\n  </thead>\n  <tbody>\n    <tr>\n      <td>count</td>\n      <td>348.0</td>\n      <td>348.000000</td>\n      <td>348.000000</td>\n      <td>348.000000</td>\n      <td>348.000000</td>\n      <td>348.000000</td>\n      <td>348.000000</td>\n      <td>348.000000</td>\n      <td>348.000000</td>\n      <td>348.000000</td>\n      <td>348.000000</td>\n    </tr>\n    <tr>\n      <td>mean</td>\n      <td>2016.0</td>\n      <td>6.477011</td>\n      <td>15.514368</td>\n      <td>62.652299</td>\n      <td>62.701149</td>\n      <td>59.760632</td>\n      <td>62.543103</td>\n      <td>57.238506</td>\n      <td>62.373563</td>\n      <td>59.772989</td>\n      <td>60.034483</td>\n    </tr>\n    <tr>\n      <td>std</td>\n      <td>0.0</td>\n      <td>3.498380</td>\n      <td>8.772982</td>\n      <td>12.165398</td>\n      <td>12.120542</td>\n      <td>10.527306</td>\n      <td>11.794146</td>\n      <td>10.605746</td>\n      <td>10.549381</td>\n      <td>10.705256</td>\n      <td>15.626179</td>\n    </tr>\n    <tr>\n      <td>min</td>\n      <td>2016.0</td>\n      <td>1.000000</td>\n      <td>1.000000</td>\n      <td>35.000000</td>\n      <td>35.000000</td>\n      <td>45.100000</td>\n      <td>35.000000</td>\n      <td>41.000000</td>\n      <td>46.000000</td>\n      <td>44.000000</td>\n      <td>28.000000</td>\n    </tr>\n    <tr>\n      <td>25%</td>\n      <td>2016.0</td>\n      <td>3.000000</td>\n      <td>8.000000</td>\n      <td>54.000000</td>\n      <td>54.000000</td>\n      <td>49.975000</td>\n      <td>54.000000</td>\n      <td>48.000000</td>\n      <td>53.000000</td>\n      <td>50.000000</td>\n      <td>47.750000</td>\n    </tr>\n    <tr>\n      <td>50%</td>\n      <td>2016.0</td>\n      <td>6.000000</td>\n      <td>15.000000</td>\n      <td>62.500000</td>\n      <td>62.500000</td>\n      <td>58.200000</td>\n      <td>62.500000</td>\n      <td>56.000000</td>\n      <td>61.000000</td>\n      <td>58.000000</td>\n      <td>60.000000</td>\n    </tr>\n    <tr>\n      <td>75%</td>\n      <td>2016.0</td>\n      <td>10.000000</td>\n      <td>23.000000</td>\n      <td>71.000000</td>\n      <td>71.000000</td>\n      <td>69.025000</td>\n      <td>71.000000</td>\n      <td>66.000000</td>\n      <td>72.000000</td>\n      <td>69.000000</td>\n      <td>71.000000</td>\n    </tr>\n    <tr>\n      <td>max</td>\n      <td>2016.0</td>\n      <td>12.000000</td>\n      <td>31.000000</td>\n      <td>117.000000</td>\n      <td>117.000000</td>\n      <td>77.400000</td>\n      <td>92.000000</td>\n      <td>77.000000</td>\n      <td>82.000000</td>\n      <td>79.000000</td>\n      <td>95.000000</td>\n    </tr>\n  </tbody>\n</table>\n</div>"
     },
     "execution_count": 80,
     "metadata": {},
     "output_type": "execute_result"
    }
   ],
   "source": [
    "temps.describe()"
   ],
   "metadata": {
    "collapsed": false,
    "pycharm": {
     "name": "#%%\n"
    }
   }
  },
  {
   "cell_type": "code",
   "execution_count": 81,
   "outputs": [
    {
     "data": {
      "text/plain": "   average  actual  forecast_noaa  forecast_acc  forecast_under  friend  \\\n0     45.6      45             43            50              44      29   \n1     45.7      44             41            50              44      61   \n2     45.8      41             43            46              47      56   \n3     45.9      40             44            48              46      53   \n4     46.0      44             46            46              46      41   \n\n   week_Fri  week_Mon  week_Sat  week_Sun  week_Thurs  week_Tues  week_Wed  \n0         1         0         0         0           0          0         0  \n1         0         0         1         0           0          0         0  \n2         0         0         0         1           0          0         0  \n3         0         1         0         0           0          0         0  \n4         0         0         0         0           0          1         0  ",
      "text/html": "<div>\n<style scoped>\n    .dataframe tbody tr th:only-of-type {\n        vertical-align: middle;\n    }\n\n    .dataframe tbody tr th {\n        vertical-align: top;\n    }\n\n    .dataframe thead th {\n        text-align: right;\n    }\n</style>\n<table border=\"1\" class=\"dataframe\">\n  <thead>\n    <tr style=\"text-align: right;\">\n      <th></th>\n      <th>average</th>\n      <th>actual</th>\n      <th>forecast_noaa</th>\n      <th>forecast_acc</th>\n      <th>forecast_under</th>\n      <th>friend</th>\n      <th>week_Fri</th>\n      <th>week_Mon</th>\n      <th>week_Sat</th>\n      <th>week_Sun</th>\n      <th>week_Thurs</th>\n      <th>week_Tues</th>\n      <th>week_Wed</th>\n    </tr>\n  </thead>\n  <tbody>\n    <tr>\n      <td>0</td>\n      <td>45.6</td>\n      <td>45</td>\n      <td>43</td>\n      <td>50</td>\n      <td>44</td>\n      <td>29</td>\n      <td>1</td>\n      <td>0</td>\n      <td>0</td>\n      <td>0</td>\n      <td>0</td>\n      <td>0</td>\n      <td>0</td>\n    </tr>\n    <tr>\n      <td>1</td>\n      <td>45.7</td>\n      <td>44</td>\n      <td>41</td>\n      <td>50</td>\n      <td>44</td>\n      <td>61</td>\n      <td>0</td>\n      <td>0</td>\n      <td>1</td>\n      <td>0</td>\n      <td>0</td>\n      <td>0</td>\n      <td>0</td>\n    </tr>\n    <tr>\n      <td>2</td>\n      <td>45.8</td>\n      <td>41</td>\n      <td>43</td>\n      <td>46</td>\n      <td>47</td>\n      <td>56</td>\n      <td>0</td>\n      <td>0</td>\n      <td>0</td>\n      <td>1</td>\n      <td>0</td>\n      <td>0</td>\n      <td>0</td>\n    </tr>\n    <tr>\n      <td>3</td>\n      <td>45.9</td>\n      <td>40</td>\n      <td>44</td>\n      <td>48</td>\n      <td>46</td>\n      <td>53</td>\n      <td>0</td>\n      <td>1</td>\n      <td>0</td>\n      <td>0</td>\n      <td>0</td>\n      <td>0</td>\n      <td>0</td>\n    </tr>\n    <tr>\n      <td>4</td>\n      <td>46.0</td>\n      <td>44</td>\n      <td>46</td>\n      <td>46</td>\n      <td>46</td>\n      <td>41</td>\n      <td>0</td>\n      <td>0</td>\n      <td>0</td>\n      <td>0</td>\n      <td>0</td>\n      <td>1</td>\n      <td>0</td>\n    </tr>\n  </tbody>\n</table>\n</div>"
     },
     "execution_count": 81,
     "metadata": {},
     "output_type": "execute_result"
    }
   ],
   "source": [
    "temps = pd.get_dummies(temps)\n",
    "temps.iloc[:,5:].head(5)"
   ],
   "metadata": {
    "collapsed": false,
    "pycharm": {
     "name": "#%%\n"
    }
   }
  },
  {
   "cell_type": "code",
   "execution_count": 82,
   "outputs": [],
   "source": [
    "y = np.array(temps['actual'])\n",
    "\n",
    "temps= temps.drop('actual', axis = 1)\n",
    "temps_list = list(temps.columns)\n",
    "temps = np.array(temps)\n",
    "\n",
    "x_train, x_test, y_train, y_test = train_test_split(temps, y, test_size = 0.25, random_state = 42)"
   ],
   "metadata": {
    "collapsed": false,
    "pycharm": {
     "name": "#%%\n"
    }
   }
  },
  {
   "cell_type": "markdown",
   "source": [
    "## Standard RF"
   ],
   "metadata": {
    "collapsed": false,
    "pycharm": {
     "name": "#%% md\n"
    }
   }
  },
  {
   "cell_type": "code",
   "execution_count": 83,
   "outputs": [
    {
     "name": "stdout",
     "output_type": "stream",
     "text": [
      "mse is 26.02690937931034\n"
     ]
    }
   ],
   "source": [
    "rf = RandomForestRegressor(n_estimators = 1000, random_state = 42)\n",
    "rf.fit(x_train, y_train)\n",
    "\n",
    "preds = rf.predict(x_test)\n",
    "\n",
    "print(f'mse is {mean_squared_error(y_test,preds)}')"
   ],
   "metadata": {
    "collapsed": false,
    "pycharm": {
     "name": "#%%\n"
    }
   }
  },
  {
   "cell_type": "markdown",
   "source": [
    "## RF with small m and many uninformative features"
   ],
   "metadata": {
    "collapsed": false,
    "pycharm": {
     "name": "#%% md\n",
     "is_executing": true
    }
   }
  },
  {
   "cell_type": "code",
   "execution_count": 84,
   "outputs": [
    {
     "name": "stdout",
     "output_type": "stream",
     "text": [
      "mse is 31.230310574913798\n"
     ]
    }
   ],
   "source": [
    "z = np.zeros((x_train.shape[0],10000))\n",
    "mx_train = np.concatenate((x_train,z),axis=1)\n",
    "z = np.zeros((x_test.shape[0],10000))\n",
    "mx_test = np.concatenate((x_test,z),axis=1)\n",
    "\n",
    "rf = RandomForestRegressor(n_estimators = 1000, random_state = 42, max_features=2)\n",
    "rf.fit(mx_train, y_train)\n",
    "\n",
    "preds = rf.predict(mx_test)\n",
    "\n",
    "print(f'mse is {mean_squared_error(y_test,preds)}')"
   ],
   "metadata": {
    "collapsed": false,
    "pycharm": {
     "name": "#%%\n"
    }
   }
  }
 ],
 "metadata": {
  "kernelspec": {
   "display_name": "Python 3",
   "language": "python",
   "name": "python3"
  },
  "language_info": {
   "codemirror_mode": {
    "name": "ipython",
    "version": 2
   },
   "file_extension": ".py",
   "mimetype": "text/x-python",
   "name": "python",
   "nbconvert_exporter": "python",
   "pygments_lexer": "ipython2",
   "version": "2.7.6"
  }
 },
 "nbformat": 4,
 "nbformat_minor": 0
}