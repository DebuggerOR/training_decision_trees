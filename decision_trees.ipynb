{
 "cells": [
  {
   "cell_type": "markdown",
   "metadata": {
    "collapsed": true,
    "pycharm": {
     "name": "#%% md\n"
    }
   },
   "source": [
    "# Decision Trees"
   ]
  },
  {
   "cell_type": "markdown",
   "source": [
    "1. How might one use a classification tree to return class probabilities?\n",
    "\n",
    "A leaf doesn't represent only the argmax of the probabilities, but the probabilities themselves by relative frequency.\n",
    "\n",
    "2. What are the three measures used for building classification trees? What are their relative merits? What's used\n",
    "for regression trees? What's used for regression trees?\n",
    "\n",
    "Misclassification error: the sum of the probabilities of not argmax classes. Simple but not differentiable.\n",
    "\n",
    "Gini Index: the sum of the multiplications of all probabilities.\n",
    "Information Gain.\n",
    "For example, the last two learn pure nodes better.\n",
    "\n",
    "For regression trees we use least squares.\n",
    "\n",
    "3. How can Gini Index be interpreted?\n",
    "If we do \"soft\" classify with probabilities as in 1, then the Misclassification is exactly the Gini Index.\n",
    "In addition, if we classify with 1 for the argmax and 0 to the rest, the sum over the variance is the Gini Index.\n",
    "\n",
    "4. What are the disadvantages of decision trees?\n",
    "Often a small change in the data can result in a very different series of splits.\n",
    "Another limitation of trees is the lack of smoothness of the prediction surface.\n",
    "Another problem with trees is their difficulty in modeling additive structure.\n",
    "\n",
    "5. What does pruning aim to solve? How is it done?\n",
    "Solves overfitting and helps to generalize.\n",
    "Cutting branches and reducing the number of the leaves, while optimizing a cost function.\n",
    "Actually, there is a hyper parameter that governs this tradeoff.\n",
    "\n",
    "6. What might be a problem with classification trees when categorical feature with many possible values? Suggest a\n",
    "solution to the problem.\n",
    "No class get significant probability.\n",
    "The solution is deeper tree (with more data).\n",
    "\n"
   ],
   "metadata": {
    "collapsed": false
   }
  }
 ],
 "metadata": {
  "kernelspec": {
   "display_name": "Python 3",
   "language": "python",
   "name": "python3"
  },
  "language_info": {
   "codemirror_mode": {
    "name": "ipython",
    "version": 2
   },
   "file_extension": ".py",
   "mimetype": "text/x-python",
   "name": "python",
   "nbconvert_exporter": "python",
   "pygments_lexer": "ipython2",
   "version": "2.7.6"
  }
 },
 "nbformat": 4,
 "nbformat_minor": 0
}