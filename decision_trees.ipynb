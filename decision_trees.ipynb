{
 "cells": [
  {
   "cell_type": "markdown",
   "metadata": {
    "collapsed": true,
    "pycharm": {
     "name": "#%% md\n"
    }
   },
   "source": [
    "# Decision Trees"
   ]
  },
  {
   "cell_type": "markdown",
   "source": [
    "1. How might one use a classification tree to return class probabilities?\n",
    "\n",
    "A leaf doesn't represent only the argmax of the probabilities, but the probabilities themselves by relative frequency.\n",
    "\n",
    "2. What are the three measures used for building classification trees? What are their relative merits? What's used\n",
    "for regression trees? What's used for regression trees?\n",
    "\n",
    "Misclassification error: the sum of the probabilities of not argmax classes. Simple but not differentiable.\n",
    "\n",
    "Gini Index: the sum of the multiplications of all probabilities.\n",
    "Information Gain.\n",
    "For example, the last two learn pure nodes better.\n",
    "\n",
    "For regression trees we use least squares.\n",
    "\n",
    "3. How can Gini Index be interpreted?\n",
    "\n",
    "If we do \"soft\" classify with probabilities as in 1, then the Misclassification is exactly the Gini Index.\n",
    "In addition, if we classify with 1 for the argmax and 0 to the rest, the sum over the variance is the Gini Index.\n",
    "\n",
    "4. What are the disadvantages of decision trees?\n",
    "\n",
    "Often a small change in the data can result in a very different series of splits.\n",
    "Another limitation of trees is the lack of smoothness of the prediction surface.\n",
    "Another problem with trees is their difficulty in modeling additive structure.\n",
    "\n",
    "5. What does pruning aim to solve? How is it done?\n",
    "Solves overfitting and helps to generalize.\n",
    "\n",
    "Cutting branches and reducing the number of the leaves, while optimizing a cost function.\n",
    "Actually, there is a hyper parameter that governs this tradeoff.\n",
    "\n",
    "6. What might be a problem with classification trees when categorical feature with many possible values? Suggest a\n",
    "solution to the problem.\n",
    "\n",
    "No class gets significant probability.\n",
    "The solution is deeper tree (with more data)."
   ],
   "metadata": {
    "collapsed": false
   }
  },
  {
   "cell_type": "markdown",
   "source": [
    "## Exercise\n",
    "- How well do you expect a decision tree classifier to learn the parity problem?\n",
    "Try so solve the parity problem using decision tree and see what results you get.\n"
   ],
   "metadata": {
    "collapsed": false
   }
  },
  {
   "cell_type": "code",
   "execution_count": 47,
   "outputs": [],
   "source": [
    "import numpy as np\n",
    "from sklearn.metrics import accuracy_score\n",
    "from sklearn.tree import DecisionTreeClassifier\n",
    "import matplotlib.pyplot as plt"
   ],
   "metadata": {
    "collapsed": false,
    "pycharm": {
     "name": "#%%\n"
    }
   }
  },
  {
   "cell_type": "code",
   "execution_count": 48,
   "outputs": [],
   "source": [
    "arr_size = 100\n",
    "size_X = 2000\n",
    "\n",
    "X_train = [np.random.choice(a=[0, 1], size=(arr_size,)) for _ in range(size_X)]\n",
    "Y_train = [sum(x) % 2 for x in X_train]\n",
    "\n",
    "X_test = [np.random.choice(a=[0, 1], size=(arr_size,)) for _ in range(int(size_X/4))]\n",
    "Y_test = [sum(x) % 2 for x in X_test]"
   ],
   "metadata": {
    "collapsed": false,
    "pycharm": {
     "name": "#%%\n"
    }
   }
  },
  {
   "cell_type": "code",
   "execution_count": 49,
   "outputs": [],
   "source": [
    "clf = DecisionTreeClassifier()\n",
    "clf = clf.fit(X_train, Y_train)"
   ],
   "metadata": {
    "collapsed": false,
    "pycharm": {
     "name": "#%%\n"
    }
   }
  },
  {
   "cell_type": "code",
   "execution_count": 50,
   "outputs": [],
   "source": [
    "# tree.plot_tree(clf)"
   ],
   "metadata": {
    "collapsed": false,
    "pycharm": {
     "name": "#%%\n"
    }
   }
  },
  {
   "cell_type": "code",
   "execution_count": 51,
   "outputs": [
    {
     "name": "stdout",
     "output_type": "stream",
     "text": [
      "acc: 0.536\n"
     ]
    }
   ],
   "source": [
    "preds = clf.predict(X_test)\n",
    "\n",
    "print(f'acc: {accuracy_score(preds,Y_test)}')"
   ],
   "metadata": {
    "collapsed": false,
    "pycharm": {
     "name": "#%%\n"
    }
   }
  },
  {
   "cell_type": "markdown",
   "source": [
    "- Load the Carseats dataset, and try to predict the sales using the other variables.\n",
    "Use validation set to tune your hyper-parameters. What was the chosen tree depth? Why did this happen?"
   ],
   "metadata": {
    "collapsed": false,
    "pycharm": {
     "name": "#%% md\n"
    }
   }
  },
  {
   "cell_type": "code",
   "execution_count": 74,
   "outputs": [],
   "source": [
    "import pandas as pd\n",
    "from sklearn.model_selection import train_test_split\n",
    "from sklearn.tree import DecisionTreeRegressor\n",
    "from sklearn.metrics import mean_squared_error"
   ],
   "metadata": {
    "collapsed": false,
    "pycharm": {
     "name": "#%%\n"
    }
   }
  },
  {
   "cell_type": "code",
   "execution_count": 79,
   "outputs": [],
   "source": [
    "carseats = pd.read_csv('Carseats.csv')\n",
    "\n",
    "X = carseats[['US','Urban','Education','Age','ShelveLoc','Price','Population','Advertising','Income','CompPrice']]\n",
    "y = carseats[['Sales']]\n",
    "\n",
    "X = X.replace(['Yes','No','Bad','Medium','Good'],[1,0,0,1,2])"
   ],
   "metadata": {
    "collapsed": false,
    "pycharm": {
     "name": "#%%\n"
    }
   }
  },
  {
   "cell_type": "code",
   "execution_count": 80,
   "outputs": [
    {
     "data": {
      "text/plain": "   US  Urban  Education  Age  ShelveLoc  Price  Population  Advertising  \\\n0   1      1         17   42          0    120         276           11   \n1   1      1         10   65          2     83         260           16   \n2   1      1         12   59          1     80         269           10   \n3   1      1         14   55          1     97         466            4   \n4   0      1         13   38          0    128         340            3   \n\n   Income  CompPrice  \n0      73        138  \n1      48        111  \n2      35        113  \n3     100        117  \n4      64        141  ",
      "text/html": "<div>\n<style scoped>\n    .dataframe tbody tr th:only-of-type {\n        vertical-align: middle;\n    }\n\n    .dataframe tbody tr th {\n        vertical-align: top;\n    }\n\n    .dataframe thead th {\n        text-align: right;\n    }\n</style>\n<table border=\"1\" class=\"dataframe\">\n  <thead>\n    <tr style=\"text-align: right;\">\n      <th></th>\n      <th>US</th>\n      <th>Urban</th>\n      <th>Education</th>\n      <th>Age</th>\n      <th>ShelveLoc</th>\n      <th>Price</th>\n      <th>Population</th>\n      <th>Advertising</th>\n      <th>Income</th>\n      <th>CompPrice</th>\n    </tr>\n  </thead>\n  <tbody>\n    <tr>\n      <td>0</td>\n      <td>1</td>\n      <td>1</td>\n      <td>17</td>\n      <td>42</td>\n      <td>0</td>\n      <td>120</td>\n      <td>276</td>\n      <td>11</td>\n      <td>73</td>\n      <td>138</td>\n    </tr>\n    <tr>\n      <td>1</td>\n      <td>1</td>\n      <td>1</td>\n      <td>10</td>\n      <td>65</td>\n      <td>2</td>\n      <td>83</td>\n      <td>260</td>\n      <td>16</td>\n      <td>48</td>\n      <td>111</td>\n    </tr>\n    <tr>\n      <td>2</td>\n      <td>1</td>\n      <td>1</td>\n      <td>12</td>\n      <td>59</td>\n      <td>1</td>\n      <td>80</td>\n      <td>269</td>\n      <td>10</td>\n      <td>35</td>\n      <td>113</td>\n    </tr>\n    <tr>\n      <td>3</td>\n      <td>1</td>\n      <td>1</td>\n      <td>14</td>\n      <td>55</td>\n      <td>1</td>\n      <td>97</td>\n      <td>466</td>\n      <td>4</td>\n      <td>100</td>\n      <td>117</td>\n    </tr>\n    <tr>\n      <td>4</td>\n      <td>0</td>\n      <td>1</td>\n      <td>13</td>\n      <td>38</td>\n      <td>0</td>\n      <td>128</td>\n      <td>340</td>\n      <td>3</td>\n      <td>64</td>\n      <td>141</td>\n    </tr>\n  </tbody>\n</table>\n</div>"
     },
     "execution_count": 80,
     "metadata": {},
     "output_type": "execute_result"
    }
   ],
   "source": [
    "X.head()"
   ],
   "metadata": {
    "collapsed": false,
    "pycharm": {
     "name": "#%%\n"
    }
   }
  },
  {
   "cell_type": "code",
   "execution_count": 81,
   "outputs": [],
   "source": [
    "X_train, X_val_test, y_train, y_val_test = train_test_split(X, y, test_size=0.5, random_state=0)\n",
    "X_val, X_test, y_val, y_test = train_test_split(X_val_test, y_val_test, test_size=0.5, random_state=0)"
   ],
   "metadata": {
    "collapsed": false,
    "pycharm": {
     "name": "#%%\n"
    }
   }
  },
  {
   "cell_type": "code",
   "execution_count": 103,
   "outputs": [],
   "source": [
    "depths = [2*i for i in range(2,15)]\n"
   ],
   "metadata": {
    "collapsed": false,
    "pycharm": {
     "name": "#%%\n"
    }
   }
  },
  {
   "cell_type": "code",
   "execution_count": 104,
   "outputs": [],
   "source": [
    "errs = []\n",
    "for d in depths:\n",
    "    reg = DecisionTreeRegressor(max_depth=d)\n",
    "    reg.fit(X_train, y_train)\n",
    "    preds = reg.predict(X_val)\n",
    "    err = mean_squared_error(np.array(y_val),preds)\n",
    "    errs.append(err)"
   ],
   "metadata": {
    "collapsed": false,
    "pycharm": {
     "name": "#%%\n"
    }
   }
  },
  {
   "cell_type": "code",
   "execution_count": 105,
   "outputs": [
    {
     "data": {
      "text/plain": "<Figure size 432x288 with 1 Axes>",
      "image/png": "[encoded data removed]"
     },
     "metadata": {
      "needs_background": "light"
     },
     "output_type": "display_data"
    }
   ],
   "source": [
    "plt.plot(depths,errs)\n",
    "plt.show()"
   ],
   "metadata": {
    "collapsed": false,
    "pycharm": {
     "name": "#%%\n"
    }
   }
  },
  {
   "cell_type": "code",
   "execution_count": 107,
   "outputs": [
    {
     "data": {
      "text/plain": "5.761779198513187"
     },
     "execution_count": 107,
     "metadata": {},
     "output_type": "execute_result"
    }
   ],
   "source": [
    "depth = 10\n",
    "\n",
    "reg = DecisionTreeRegressor(max_depth=depth)\n",
    "reg.fit(X_train, y_train)\n",
    "preds = reg.predict(X_test)\n",
    "\n",
    "err = mean_squared_error(np.array(y_test),preds)\n",
    "\n",
    "err"
   ],
   "metadata": {
    "collapsed": false,
    "pycharm": {
     "name": "#%%\n"
    }
   }
  },
  {
   "cell_type": "markdown",
   "source": [
    "The error reduced as the depth was increased to 10, but after that it climbed back because overfit on the train set.\n"
   ],
   "metadata": {
    "collapsed": false
   }
  }
 ],
 "metadata": {
  "kernelspec": {
   "display_name": "Python 3",
   "language": "python",
   "name": "python3"
  },
  "language_info": {
   "codemirror_mode": {
    "name": "ipython",
    "version": 2
   },
   "file_extension": ".py",
   "mimetype": "text/x-python",
   "name": "python",
   "nbconvert_exporter": "python",
   "pygments_lexer": "ipython2",
   "version": "2.7.6"
  }
 },
 "nbformat": 4,
 "nbformat_minor": 0
}